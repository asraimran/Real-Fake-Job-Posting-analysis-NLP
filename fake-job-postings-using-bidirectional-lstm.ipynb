{
 "cells": [
  {
   "cell_type": "code",
   "execution_count": 2,
   "id": "1f31d5a2",
   "metadata": {
    "_cell_guid": "b1076dfc-b9ad-4769-8c92-a6c4dae69d19",
    "_uuid": "8f2839f25d086af736a60e9eeb907d3b93b6e0e5",
    "execution": {
     "iopub.execute_input": "2021-10-09T06:15:23.022800Z",
     "iopub.status.busy": "2021-10-09T06:15:23.022073Z",
     "iopub.status.idle": "2021-10-09T06:15:23.034274Z",
     "shell.execute_reply": "2021-10-09T06:15:23.034929Z",
     "shell.execute_reply.started": "2021-10-09T05:38:59.511497Z"
    },
    "papermill": {
     "duration": 0.055248,
     "end_time": "2021-10-09T06:15:23.035262",
     "exception": false,
     "start_time": "2021-10-09T06:15:22.980014",
     "status": "completed"
    },
    "tags": []
   },
   "outputs": [],
   "source": [
    "# This Python 3 environment comes with many helpful analytics libraries installed\n",
    "# It is defined by the kaggle/python Docker image: https://github.com/kaggle/docker-python\n",
    "# For example, here's several helpful packages to load\n",
    "\n",
    "import numpy as np # linear algebra\n",
    "import pandas as pd # data processing, CSV file I/O (e.g. pd.read_csv)\n",
    "\n",
    "# Input data files are available in the read-only \"../input/\" directory\n",
    "# For example, running this (by clicking run or pressing Shift+Enter) will list all files under the input directory\n",
    "\n",
    "import os\n",
    "for dirname, _, filenames in os.walk('/kaggle/input'):\n",
    "    for filename in filenames:\n",
    "        print(os.path.join(dirname, filename))\n",
    "\n",
    "# You can write up to 20GB to the current directory (/kaggle/working/) that gets preserved as output when you create a version using \"Save & Run All\" \n",
    "# You can also write temporary files to /kaggle/temp/, but they won't be saved outside of the current session"
   ]
  },
  {
   "cell_type": "code",
   "execution_count": 3,
   "id": "7a520561",
   "metadata": {
    "execution": {
     "iopub.execute_input": "2021-10-09T06:15:23.097993Z",
     "iopub.status.busy": "2021-10-09T06:15:23.097307Z",
     "iopub.status.idle": "2021-10-09T06:15:24.479095Z",
     "shell.execute_reply": "2021-10-09T06:15:24.478534Z",
     "shell.execute_reply.started": "2021-10-09T05:38:59.545584Z"
    },
    "papermill": {
     "duration": 1.414972,
     "end_time": "2021-10-09T06:15:24.479252",
     "exception": false,
     "start_time": "2021-10-09T06:15:23.064280",
     "status": "completed"
    },
    "tags": []
   },
   "outputs": [],
   "source": [
    "df1 = pd.read_csv('fake_job_postings.csv')"
   ]
  },
  {
   "cell_type": "code",
   "execution_count": 4,
   "id": "12cc6d44",
   "metadata": {
    "execution": {
     "iopub.execute_input": "2021-10-09T06:15:24.543248Z",
     "iopub.status.busy": "2021-10-09T06:15:24.542291Z",
     "iopub.status.idle": "2021-10-09T06:15:24.565118Z",
     "shell.execute_reply": "2021-10-09T06:15:24.565634Z",
     "shell.execute_reply.started": "2021-10-09T05:39:00.777490Z"
    },
    "papermill": {
     "duration": 0.058848,
     "end_time": "2021-10-09T06:15:24.565801",
     "exception": false,
     "start_time": "2021-10-09T06:15:24.506953",
     "status": "completed"
    },
    "tags": []
   },
   "outputs": [
    {
     "data": {
      "text/html": [
       "<div>\n",
       "<style scoped>\n",
       "    .dataframe tbody tr th:only-of-type {\n",
       "        vertical-align: middle;\n",
       "    }\n",
       "\n",
       "    .dataframe tbody tr th {\n",
       "        vertical-align: top;\n",
       "    }\n",
       "\n",
       "    .dataframe thead th {\n",
       "        text-align: right;\n",
       "    }\n",
       "</style>\n",
       "<table border=\"1\" class=\"dataframe\">\n",
       "  <thead>\n",
       "    <tr style=\"text-align: right;\">\n",
       "      <th></th>\n",
       "      <th>job_id</th>\n",
       "      <th>title</th>\n",
       "      <th>location</th>\n",
       "      <th>department</th>\n",
       "      <th>salary_range</th>\n",
       "      <th>company_profile</th>\n",
       "      <th>description</th>\n",
       "      <th>requirements</th>\n",
       "      <th>benefits</th>\n",
       "      <th>telecommuting</th>\n",
       "      <th>has_company_logo</th>\n",
       "      <th>has_questions</th>\n",
       "      <th>employment_type</th>\n",
       "      <th>required_experience</th>\n",
       "      <th>required_education</th>\n",
       "      <th>industry</th>\n",
       "      <th>function</th>\n",
       "      <th>fraudulent</th>\n",
       "    </tr>\n",
       "  </thead>\n",
       "  <tbody>\n",
       "    <tr>\n",
       "      <th>0</th>\n",
       "      <td>1</td>\n",
       "      <td>Marketing Intern</td>\n",
       "      <td>US, NY, New York</td>\n",
       "      <td>Marketing</td>\n",
       "      <td>NaN</td>\n",
       "      <td>We're Food52, and we've created a groundbreaki...</td>\n",
       "      <td>Food52, a fast-growing, James Beard Award-winn...</td>\n",
       "      <td>Experience with content management systems a m...</td>\n",
       "      <td>NaN</td>\n",
       "      <td>0</td>\n",
       "      <td>1</td>\n",
       "      <td>0</td>\n",
       "      <td>Other</td>\n",
       "      <td>Internship</td>\n",
       "      <td>NaN</td>\n",
       "      <td>NaN</td>\n",
       "      <td>Marketing</td>\n",
       "      <td>0</td>\n",
       "    </tr>\n",
       "    <tr>\n",
       "      <th>1</th>\n",
       "      <td>2</td>\n",
       "      <td>Customer Service - Cloud Video Production</td>\n",
       "      <td>NZ, , Auckland</td>\n",
       "      <td>Success</td>\n",
       "      <td>NaN</td>\n",
       "      <td>90 Seconds, the worlds Cloud Video Production ...</td>\n",
       "      <td>Organised - Focused - Vibrant - Awesome!Do you...</td>\n",
       "      <td>What we expect from you:Your key responsibilit...</td>\n",
       "      <td>What you will get from usThrough being part of...</td>\n",
       "      <td>0</td>\n",
       "      <td>1</td>\n",
       "      <td>0</td>\n",
       "      <td>Full-time</td>\n",
       "      <td>Not Applicable</td>\n",
       "      <td>NaN</td>\n",
       "      <td>Marketing and Advertising</td>\n",
       "      <td>Customer Service</td>\n",
       "      <td>0</td>\n",
       "    </tr>\n",
       "    <tr>\n",
       "      <th>2</th>\n",
       "      <td>3</td>\n",
       "      <td>Commissioning Machinery Assistant (CMA)</td>\n",
       "      <td>US, IA, Wever</td>\n",
       "      <td>NaN</td>\n",
       "      <td>NaN</td>\n",
       "      <td>Valor Services provides Workforce Solutions th...</td>\n",
       "      <td>Our client, located in Houston, is actively se...</td>\n",
       "      <td>Implement pre-commissioning and commissioning ...</td>\n",
       "      <td>NaN</td>\n",
       "      <td>0</td>\n",
       "      <td>1</td>\n",
       "      <td>0</td>\n",
       "      <td>NaN</td>\n",
       "      <td>NaN</td>\n",
       "      <td>NaN</td>\n",
       "      <td>NaN</td>\n",
       "      <td>NaN</td>\n",
       "      <td>0</td>\n",
       "    </tr>\n",
       "    <tr>\n",
       "      <th>3</th>\n",
       "      <td>4</td>\n",
       "      <td>Account Executive - Washington DC</td>\n",
       "      <td>US, DC, Washington</td>\n",
       "      <td>Sales</td>\n",
       "      <td>NaN</td>\n",
       "      <td>Our passion for improving quality of life thro...</td>\n",
       "      <td>THE COMPANY: ESRI – Environmental Systems Rese...</td>\n",
       "      <td>EDUCATION: Bachelor’s or Master’s in GIS, busi...</td>\n",
       "      <td>Our culture is anything but corporate—we have ...</td>\n",
       "      <td>0</td>\n",
       "      <td>1</td>\n",
       "      <td>0</td>\n",
       "      <td>Full-time</td>\n",
       "      <td>Mid-Senior level</td>\n",
       "      <td>Bachelor's Degree</td>\n",
       "      <td>Computer Software</td>\n",
       "      <td>Sales</td>\n",
       "      <td>0</td>\n",
       "    </tr>\n",
       "    <tr>\n",
       "      <th>4</th>\n",
       "      <td>5</td>\n",
       "      <td>Bill Review Manager</td>\n",
       "      <td>US, FL, Fort Worth</td>\n",
       "      <td>NaN</td>\n",
       "      <td>NaN</td>\n",
       "      <td>SpotSource Solutions LLC is a Global Human Cap...</td>\n",
       "      <td>JOB TITLE: Itemization Review ManagerLOCATION:...</td>\n",
       "      <td>QUALIFICATIONS:RN license in the State of Texa...</td>\n",
       "      <td>Full Benefits Offered</td>\n",
       "      <td>0</td>\n",
       "      <td>1</td>\n",
       "      <td>1</td>\n",
       "      <td>Full-time</td>\n",
       "      <td>Mid-Senior level</td>\n",
       "      <td>Bachelor's Degree</td>\n",
       "      <td>Hospital &amp; Health Care</td>\n",
       "      <td>Health Care Provider</td>\n",
       "      <td>0</td>\n",
       "    </tr>\n",
       "  </tbody>\n",
       "</table>\n",
       "</div>"
      ],
      "text/plain": [
       "   job_id                                      title            location  \\\n",
       "0       1                           Marketing Intern    US, NY, New York   \n",
       "1       2  Customer Service - Cloud Video Production      NZ, , Auckland   \n",
       "2       3    Commissioning Machinery Assistant (CMA)       US, IA, Wever   \n",
       "3       4          Account Executive - Washington DC  US, DC, Washington   \n",
       "4       5                        Bill Review Manager  US, FL, Fort Worth   \n",
       "\n",
       "  department salary_range                                    company_profile  \\\n",
       "0  Marketing          NaN  We're Food52, and we've created a groundbreaki...   \n",
       "1    Success          NaN  90 Seconds, the worlds Cloud Video Production ...   \n",
       "2        NaN          NaN  Valor Services provides Workforce Solutions th...   \n",
       "3      Sales          NaN  Our passion for improving quality of life thro...   \n",
       "4        NaN          NaN  SpotSource Solutions LLC is a Global Human Cap...   \n",
       "\n",
       "                                         description  \\\n",
       "0  Food52, a fast-growing, James Beard Award-winn...   \n",
       "1  Organised - Focused - Vibrant - Awesome!Do you...   \n",
       "2  Our client, located in Houston, is actively se...   \n",
       "3  THE COMPANY: ESRI – Environmental Systems Rese...   \n",
       "4  JOB TITLE: Itemization Review ManagerLOCATION:...   \n",
       "\n",
       "                                        requirements  \\\n",
       "0  Experience with content management systems a m...   \n",
       "1  What we expect from you:Your key responsibilit...   \n",
       "2  Implement pre-commissioning and commissioning ...   \n",
       "3  EDUCATION: Bachelor’s or Master’s in GIS, busi...   \n",
       "4  QUALIFICATIONS:RN license in the State of Texa...   \n",
       "\n",
       "                                            benefits  telecommuting  \\\n",
       "0                                                NaN              0   \n",
       "1  What you will get from usThrough being part of...              0   \n",
       "2                                                NaN              0   \n",
       "3  Our culture is anything but corporate—we have ...              0   \n",
       "4                              Full Benefits Offered              0   \n",
       "\n",
       "   has_company_logo  has_questions employment_type required_experience  \\\n",
       "0                 1              0           Other          Internship   \n",
       "1                 1              0       Full-time      Not Applicable   \n",
       "2                 1              0             NaN                 NaN   \n",
       "3                 1              0       Full-time    Mid-Senior level   \n",
       "4                 1              1       Full-time    Mid-Senior level   \n",
       "\n",
       "  required_education                   industry              function  \\\n",
       "0                NaN                        NaN             Marketing   \n",
       "1                NaN  Marketing and Advertising      Customer Service   \n",
       "2                NaN                        NaN                   NaN   \n",
       "3  Bachelor's Degree          Computer Software                 Sales   \n",
       "4  Bachelor's Degree     Hospital & Health Care  Health Care Provider   \n",
       "\n",
       "   fraudulent  \n",
       "0           0  \n",
       "1           0  \n",
       "2           0  \n",
       "3           0  \n",
       "4           0  "
      ]
     },
     "execution_count": 4,
     "metadata": {},
     "output_type": "execute_result"
    }
   ],
   "source": [
    "df1.head()"
   ]
  },
  {
   "cell_type": "code",
   "execution_count": 5,
   "id": "d42f39d9",
   "metadata": {
    "execution": {
     "iopub.execute_input": "2021-10-09T06:15:24.628330Z",
     "iopub.status.busy": "2021-10-09T06:15:24.627356Z",
     "iopub.status.idle": "2021-10-09T06:15:24.632637Z",
     "shell.execute_reply": "2021-10-09T06:15:24.633157Z",
     "shell.execute_reply.started": "2021-10-09T05:39:00.810451Z"
    },
    "papermill": {
     "duration": 0.03729,
     "end_time": "2021-10-09T06:15:24.633320",
     "exception": false,
     "start_time": "2021-10-09T06:15:24.596030",
     "status": "completed"
    },
    "tags": []
   },
   "outputs": [
    {
     "data": {
      "text/plain": [
       "(17880, 18)"
      ]
     },
     "execution_count": 5,
     "metadata": {},
     "output_type": "execute_result"
    }
   ],
   "source": [
    "df1.shape"
   ]
  },
  {
   "cell_type": "code",
   "execution_count": 6,
   "id": "6941f334",
   "metadata": {
    "execution": {
     "iopub.execute_input": "2021-10-09T06:15:24.694616Z",
     "iopub.status.busy": "2021-10-09T06:15:24.693613Z",
     "iopub.status.idle": "2021-10-09T06:15:24.710723Z",
     "shell.execute_reply": "2021-10-09T06:15:24.711272Z",
     "shell.execute_reply.started": "2021-10-09T05:39:00.818024Z"
    },
    "papermill": {
     "duration": 0.04947,
     "end_time": "2021-10-09T06:15:24.711441",
     "exception": false,
     "start_time": "2021-10-09T06:15:24.661971",
     "status": "completed"
    },
    "tags": []
   },
   "outputs": [
    {
     "data": {
      "text/html": [
       "<div>\n",
       "<style scoped>\n",
       "    .dataframe tbody tr th:only-of-type {\n",
       "        vertical-align: middle;\n",
       "    }\n",
       "\n",
       "    .dataframe tbody tr th {\n",
       "        vertical-align: top;\n",
       "    }\n",
       "\n",
       "    .dataframe thead th {\n",
       "        text-align: right;\n",
       "    }\n",
       "</style>\n",
       "<table border=\"1\" class=\"dataframe\">\n",
       "  <thead>\n",
       "    <tr style=\"text-align: right;\">\n",
       "      <th></th>\n",
       "      <th>description</th>\n",
       "      <th>requirements</th>\n",
       "      <th>fraudulent</th>\n",
       "    </tr>\n",
       "  </thead>\n",
       "  <tbody>\n",
       "    <tr>\n",
       "      <th>0</th>\n",
       "      <td>Food52, a fast-growing, James Beard Award-winn...</td>\n",
       "      <td>Experience with content management systems a m...</td>\n",
       "      <td>0</td>\n",
       "    </tr>\n",
       "    <tr>\n",
       "      <th>1</th>\n",
       "      <td>Organised - Focused - Vibrant - Awesome!Do you...</td>\n",
       "      <td>What we expect from you:Your key responsibilit...</td>\n",
       "      <td>0</td>\n",
       "    </tr>\n",
       "    <tr>\n",
       "      <th>2</th>\n",
       "      <td>Our client, located in Houston, is actively se...</td>\n",
       "      <td>Implement pre-commissioning and commissioning ...</td>\n",
       "      <td>0</td>\n",
       "    </tr>\n",
       "    <tr>\n",
       "      <th>3</th>\n",
       "      <td>THE COMPANY: ESRI – Environmental Systems Rese...</td>\n",
       "      <td>EDUCATION: Bachelor’s or Master’s in GIS, busi...</td>\n",
       "      <td>0</td>\n",
       "    </tr>\n",
       "    <tr>\n",
       "      <th>4</th>\n",
       "      <td>JOB TITLE: Itemization Review ManagerLOCATION:...</td>\n",
       "      <td>QUALIFICATIONS:RN license in the State of Texa...</td>\n",
       "      <td>0</td>\n",
       "    </tr>\n",
       "  </tbody>\n",
       "</table>\n",
       "</div>"
      ],
      "text/plain": [
       "                                         description  \\\n",
       "0  Food52, a fast-growing, James Beard Award-winn...   \n",
       "1  Organised - Focused - Vibrant - Awesome!Do you...   \n",
       "2  Our client, located in Houston, is actively se...   \n",
       "3  THE COMPANY: ESRI – Environmental Systems Rese...   \n",
       "4  JOB TITLE: Itemization Review ManagerLOCATION:...   \n",
       "\n",
       "                                        requirements  fraudulent  \n",
       "0  Experience with content management systems a m...           0  \n",
       "1  What we expect from you:Your key responsibilit...           0  \n",
       "2  Implement pre-commissioning and commissioning ...           0  \n",
       "3  EDUCATION: Bachelor’s or Master’s in GIS, busi...           0  \n",
       "4  QUALIFICATIONS:RN license in the State of Texa...           0  "
      ]
     },
     "execution_count": 6,
     "metadata": {},
     "output_type": "execute_result"
    }
   ],
   "source": [
    "df=df1[['description','requirements','fraudulent']]\n",
    "df.head()"
   ]
  },
  {
   "cell_type": "code",
   "execution_count": 7,
   "id": "cf3f2b68",
   "metadata": {
    "execution": {
     "iopub.execute_input": "2021-10-09T06:15:24.777316Z",
     "iopub.status.busy": "2021-10-09T06:15:24.776434Z",
     "iopub.status.idle": "2021-10-09T06:15:24.787639Z",
     "shell.execute_reply": "2021-10-09T06:15:24.788113Z",
     "shell.execute_reply.started": "2021-10-09T05:39:00.839338Z"
    },
    "papermill": {
     "duration": 0.047187,
     "end_time": "2021-10-09T06:15:24.788289",
     "exception": false,
     "start_time": "2021-10-09T06:15:24.741102",
     "status": "completed"
    },
    "tags": []
   },
   "outputs": [],
   "source": [
    "###Drop Nan Values\n",
    "df=df.dropna()"
   ]
  },
  {
   "cell_type": "code",
   "execution_count": 8,
   "id": "5fd29d65",
   "metadata": {
    "execution": {
     "iopub.execute_input": "2021-10-09T06:15:24.852786Z",
     "iopub.status.busy": "2021-10-09T06:15:24.851935Z",
     "iopub.status.idle": "2021-10-09T06:15:24.855135Z",
     "shell.execute_reply": "2021-10-09T06:15:24.855623Z",
     "shell.execute_reply.started": "2021-10-09T05:39:00.862901Z"
    },
    "papermill": {
     "duration": 0.038266,
     "end_time": "2021-10-09T06:15:24.855785",
     "exception": false,
     "start_time": "2021-10-09T06:15:24.817519",
     "status": "completed"
    },
    "tags": []
   },
   "outputs": [
    {
     "data": {
      "text/plain": [
       "(15185, 3)"
      ]
     },
     "execution_count": 8,
     "metadata": {},
     "output_type": "execute_result"
    }
   ],
   "source": [
    "df.shape"
   ]
  },
  {
   "cell_type": "code",
   "execution_count": 9,
   "id": "1de590b0",
   "metadata": {
    "execution": {
     "iopub.execute_input": "2021-10-09T06:15:24.939226Z",
     "iopub.status.busy": "2021-10-09T06:15:24.937925Z",
     "iopub.status.idle": "2021-10-09T06:15:24.944462Z",
     "shell.execute_reply": "2021-10-09T06:15:24.943613Z",
     "shell.execute_reply.started": "2021-10-09T05:39:00.871205Z"
    },
    "papermill": {
     "duration": 0.053822,
     "end_time": "2021-10-09T06:15:24.944641",
     "exception": false,
     "start_time": "2021-10-09T06:15:24.890819",
     "status": "completed"
    },
    "tags": []
   },
   "outputs": [],
   "source": [
    "## Get the Independent Features\n",
    "\n",
    "X=df.drop('fraudulent',axis=1)"
   ]
  },
  {
   "cell_type": "code",
   "execution_count": 10,
   "id": "41f0cbf9",
   "metadata": {
    "execution": {
     "iopub.execute_input": "2021-10-09T06:15:25.019585Z",
     "iopub.status.busy": "2021-10-09T06:15:25.018783Z",
     "iopub.status.idle": "2021-10-09T06:15:25.021822Z",
     "shell.execute_reply": "2021-10-09T06:15:25.021162Z",
     "shell.execute_reply.started": "2021-10-09T05:39:00.883810Z"
    },
    "papermill": {
     "duration": 0.03953,
     "end_time": "2021-10-09T06:15:25.021959",
     "exception": false,
     "start_time": "2021-10-09T06:15:24.982429",
     "status": "completed"
    },
    "tags": []
   },
   "outputs": [],
   "source": [
    "## Get the Dependent features\n",
    "y=df['fraudulent']"
   ]
  },
  {
   "cell_type": "code",
   "execution_count": 11,
   "id": "e5b1bfa7",
   "metadata": {
    "execution": {
     "iopub.execute_input": "2021-10-09T06:15:25.091092Z",
     "iopub.status.busy": "2021-10-09T06:15:25.090280Z",
     "iopub.status.idle": "2021-10-09T06:15:25.093654Z",
     "shell.execute_reply": "2021-10-09T06:15:25.094091Z",
     "shell.execute_reply.started": "2021-10-09T05:39:00.897259Z"
    },
    "papermill": {
     "duration": 0.042188,
     "end_time": "2021-10-09T06:15:25.094256",
     "exception": false,
     "start_time": "2021-10-09T06:15:25.052068",
     "status": "completed"
    },
    "tags": []
   },
   "outputs": [
    {
     "data": {
      "text/plain": [
       "0    14473\n",
       "1      712\n",
       "Name: fraudulent, dtype: int64"
      ]
     },
     "execution_count": 11,
     "metadata": {},
     "output_type": "execute_result"
    }
   ],
   "source": [
    "y.value_counts()"
   ]
  },
  {
   "cell_type": "code",
   "execution_count": 12,
   "id": "f4ae3ed6",
   "metadata": {
    "execution": {
     "iopub.execute_input": "2021-10-09T06:15:25.158776Z",
     "iopub.status.busy": "2021-10-09T06:15:25.158107Z",
     "iopub.status.idle": "2021-10-09T06:15:30.497442Z",
     "shell.execute_reply": "2021-10-09T06:15:30.496909Z",
     "shell.execute_reply.started": "2021-10-09T05:39:00.912456Z"
    },
    "papermill": {
     "duration": 5.373473,
     "end_time": "2021-10-09T06:15:30.497598",
     "exception": false,
     "start_time": "2021-10-09T06:15:25.124125",
     "status": "completed"
    },
    "tags": []
   },
   "outputs": [
    {
     "data": {
      "text/plain": [
       "'2.9.1'"
      ]
     },
     "execution_count": 12,
     "metadata": {},
     "output_type": "execute_result"
    }
   ],
   "source": [
    "import tensorflow as tf\n",
    "tf.__version__"
   ]
  },
  {
   "cell_type": "code",
   "execution_count": 13,
   "id": "6caddc11",
   "metadata": {
    "execution": {
     "iopub.execute_input": "2021-10-09T06:15:30.566516Z",
     "iopub.status.busy": "2021-10-09T06:15:30.565831Z",
     "iopub.status.idle": "2021-10-09T06:15:30.569264Z",
     "shell.execute_reply": "2021-10-09T06:15:30.568709Z",
     "shell.execute_reply.started": "2021-10-09T05:39:05.877603Z"
    },
    "papermill": {
     "duration": 0.041074,
     "end_time": "2021-10-09T06:15:30.569397",
     "exception": false,
     "start_time": "2021-10-09T06:15:30.528323",
     "status": "completed"
    },
    "tags": []
   },
   "outputs": [],
   "source": [
    "from tensorflow.keras.layers import Embedding\n",
    "from tensorflow.keras.preprocessing.sequence import pad_sequences\n",
    "from tensorflow.keras.models import Sequential\n",
    "from tensorflow.keras.preprocessing.text import one_hot\n",
    "from tensorflow.keras.layers import LSTM\n",
    "from tensorflow.keras.layers import Dense\n",
    "from tensorflow.keras.layers import Bidirectional\n",
    "from tensorflow.keras.layers import Dropout"
   ]
  },
  {
   "cell_type": "code",
   "execution_count": 14,
   "id": "ed71fca8",
   "metadata": {
    "execution": {
     "iopub.execute_input": "2021-10-09T06:15:30.635348Z",
     "iopub.status.busy": "2021-10-09T06:15:30.634659Z",
     "iopub.status.idle": "2021-10-09T06:15:30.637529Z",
     "shell.execute_reply": "2021-10-09T06:15:30.637040Z",
     "shell.execute_reply.started": "2021-10-09T05:39:05.886583Z"
    },
    "papermill": {
     "duration": 0.037634,
     "end_time": "2021-10-09T06:15:30.637678",
     "exception": false,
     "start_time": "2021-10-09T06:15:30.600044",
     "status": "completed"
    },
    "tags": []
   },
   "outputs": [],
   "source": [
    "voc_size=5000"
   ]
  },
  {
   "cell_type": "markdown",
   "id": "58fbaf39",
   "metadata": {
    "papermill": {
     "duration": 0.030435,
     "end_time": "2021-10-09T06:15:30.699031",
     "exception": false,
     "start_time": "2021-10-09T06:15:30.668596",
     "status": "completed"
    },
    "tags": []
   },
   "source": [
    ">  ****One-hot Representation****"
   ]
  },
  {
   "cell_type": "code",
   "execution_count": 15,
   "id": "5179d4ff",
   "metadata": {
    "execution": {
     "iopub.execute_input": "2021-10-09T06:15:30.765898Z",
     "iopub.status.busy": "2021-10-09T06:15:30.763342Z",
     "iopub.status.idle": "2021-10-09T06:15:30.768859Z",
     "shell.execute_reply": "2021-10-09T06:15:30.768246Z",
     "shell.execute_reply.started": "2021-10-09T05:39:05.898489Z"
    },
    "papermill": {
     "duration": 0.039068,
     "end_time": "2021-10-09T06:15:30.769006",
     "exception": false,
     "start_time": "2021-10-09T06:15:30.729938",
     "status": "completed"
    },
    "tags": []
   },
   "outputs": [],
   "source": [
    "message = X.copy()"
   ]
  },
  {
   "cell_type": "code",
   "execution_count": 16,
   "id": "b26384c5",
   "metadata": {
    "execution": {
     "iopub.execute_input": "2021-10-09T06:15:30.835223Z",
     "iopub.status.busy": "2021-10-09T06:15:30.834560Z",
     "iopub.status.idle": "2021-10-09T06:15:30.838521Z",
     "shell.execute_reply": "2021-10-09T06:15:30.838965Z",
     "shell.execute_reply.started": "2021-10-09T05:39:05.909438Z"
    },
    "papermill": {
     "duration": 0.0396,
     "end_time": "2021-10-09T06:15:30.839142",
     "exception": false,
     "start_time": "2021-10-09T06:15:30.799542",
     "status": "completed"
    },
    "tags": []
   },
   "outputs": [
    {
     "data": {
      "text/plain": [
       "\"Organised - Focused - Vibrant - Awesome!Do you have a passion for customer service? Slick typing skills? Maybe Account Management? ...And think administration is cooler than a polar bear on a jetski? Then we need to hear you!\\xa0We are the Cloud Video Production Service and opperating on a glodal level. Yeah, it's pretty cool. Serious about\\xa0delivering a world class product and excellent customer service.Our rapidly expanding business is looking for a talented Project Manager to manage the successful delivery of video projects, manage client communications and drive the production process. Work with some of the coolest brands on the planet and learn from a global team that are representing NZ is a huge way!We are entering the next growth stage of our business and growing quickly internationally. \\xa0Therefore, the position is bursting with opportunity for the right person entering the business at the right time.\\xa090 Seconds, the worlds Cloud Video Production Service -\\xa0http://90#URL_fbe6559afac620a3cd2c22281f7b8d0eef56a73e3d9a311e2f1ca13d081dd630#90 Seconds is the worlds Cloud Video Production Service enabling brands and agencies to get high quality online video content shot and produced anywhere in the world. Fast, affordable, and all managed seamlessly in the cloud from purchase to publish.\\xa090 Seconds removes the hassle, cost, risk and speed issues of working with regular video production companies by managing every aspect of video projects in a beautiful online experience. \\xa0With a growing network of over 2,000 rated video professionals in over 50 countries and dedicated production success teams in 5 countries guaranteeing video project success 100%. It's as easy as commissioning a quick google adwords campaign.90 Seconds has produced almost 4,000 videos in over 30 Countries for over 500 Global brands including some of the worlds largest including Paypal, L'oreal, Sony and Barclays and has offices in Auckland, London, Sydney, Tokyo &amp; Singapore.Our Auckland office is based\\xa0right in the heart of the Wynyard Quarter Innovation Precinct - GridAKL!\\xa0\""
      ]
     },
     "execution_count": 16,
     "metadata": {},
     "output_type": "execute_result"
    }
   ],
   "source": [
    "message['description'][1]"
   ]
  },
  {
   "cell_type": "code",
   "execution_count": 17,
   "id": "b276c65b",
   "metadata": {
    "execution": {
     "iopub.execute_input": "2021-10-09T06:15:30.904643Z",
     "iopub.status.busy": "2021-10-09T06:15:30.903889Z",
     "iopub.status.idle": "2021-10-09T06:15:30.907967Z",
     "shell.execute_reply": "2021-10-09T06:15:30.908446Z",
     "shell.execute_reply.started": "2021-10-09T05:39:05.921854Z"
    },
    "papermill": {
     "duration": 0.038651,
     "end_time": "2021-10-09T06:15:30.908666",
     "exception": false,
     "start_time": "2021-10-09T06:15:30.870015",
     "status": "completed"
    },
    "tags": []
   },
   "outputs": [],
   "source": [
    "message.reset_index(inplace=True)"
   ]
  },
  {
   "cell_type": "code",
   "execution_count": 18,
   "id": "e877f69a",
   "metadata": {
    "execution": {
     "iopub.execute_input": "2021-10-09T06:15:30.976243Z",
     "iopub.status.busy": "2021-10-09T06:15:30.975469Z",
     "iopub.status.idle": "2021-10-09T06:15:32.427175Z",
     "shell.execute_reply": "2021-10-09T06:15:32.426645Z",
     "shell.execute_reply.started": "2021-10-09T05:39:05.931715Z"
    },
    "papermill": {
     "duration": 1.487457,
     "end_time": "2021-10-09T06:15:32.427320",
     "exception": false,
     "start_time": "2021-10-09T06:15:30.939863",
     "status": "completed"
    },
    "tags": []
   },
   "outputs": [],
   "source": [
    "import nltk\n",
    "import re\n",
    "from nltk.corpus import stopwords"
   ]
  },
  {
   "cell_type": "code",
   "execution_count": 19,
   "id": "0dff5207",
   "metadata": {
    "execution": {
     "iopub.execute_input": "2021-10-09T06:15:32.503592Z",
     "iopub.status.busy": "2021-10-09T06:15:32.493134Z",
     "iopub.status.idle": "2021-10-09T06:15:32.769797Z",
     "shell.execute_reply": "2021-10-09T06:15:32.770288Z",
     "shell.execute_reply.started": "2021-10-09T05:39:07.269587Z"
    },
    "papermill": {
     "duration": 0.311201,
     "end_time": "2021-10-09T06:15:32.770455",
     "exception": false,
     "start_time": "2021-10-09T06:15:32.459254",
     "status": "completed"
    },
    "tags": []
   },
   "outputs": [
    {
     "name": "stderr",
     "output_type": "stream",
     "text": [
      "[nltk_data] Downloading package stopwords to\n",
      "[nltk_data]     C:\\Users\\asrai\\AppData\\Roaming\\nltk_data...\n",
      "[nltk_data]   Package stopwords is already up-to-date!\n"
     ]
    },
    {
     "data": {
      "text/plain": [
       "True"
      ]
     },
     "execution_count": 19,
     "metadata": {},
     "output_type": "execute_result"
    }
   ],
   "source": [
    "nltk.download('stopwords')"
   ]
  },
  {
   "cell_type": "code",
   "execution_count": 20,
   "id": "fc7d9062",
   "metadata": {
    "execution": {
     "iopub.execute_input": "2021-10-09T06:15:32.841604Z",
     "iopub.status.busy": "2021-10-09T06:15:32.840870Z",
     "iopub.status.idle": "2021-10-09T06:22:19.107850Z",
     "shell.execute_reply": "2021-10-09T06:22:19.107225Z",
     "shell.execute_reply.started": "2021-10-09T05:39:07.355649Z"
    },
    "papermill": {
     "duration": 406.306131,
     "end_time": "2021-10-09T06:22:19.108019",
     "exception": false,
     "start_time": "2021-10-09T06:15:32.801888",
     "status": "completed"
    },
    "tags": []
   },
   "outputs": [],
   "source": [
    "from nltk.stem.porter import PorterStemmer\n",
    "ps = PorterStemmer()\n",
    "corpus = []\n",
    "for i in range(0, len(message)):\n",
    "    review = re.sub('[^a-zA-Z]', ' ', message['description'][i])\n",
    "    review = review.lower()\n",
    "    review = review.split()\n",
    "    \n",
    "    review = [ps.stem(word) for word in review if not word in stopwords.words('english')]\n",
    "    review = ' '.join(review)\n",
    "    corpus.append(review)"
   ]
  },
  {
   "cell_type": "code",
   "execution_count": 21,
   "id": "d6aab10e",
   "metadata": {
    "execution": {
     "iopub.execute_input": "2021-10-09T06:22:19.175250Z",
     "iopub.status.busy": "2021-10-09T06:22:19.174632Z",
     "iopub.status.idle": "2021-10-09T06:22:19.179676Z",
     "shell.execute_reply": "2021-10-09T06:22:19.180114Z",
     "shell.execute_reply.started": "2021-10-09T05:45:50.375657Z"
    },
    "papermill": {
     "duration": 0.039819,
     "end_time": "2021-10-09T06:22:19.180282",
     "exception": false,
     "start_time": "2021-10-09T06:22:19.140463",
     "status": "completed"
    },
    "tags": []
   },
   "outputs": [
    {
     "data": {
      "text/plain": [
       "'organis focus vibrant awesom passion custom servic slick type skill mayb account manag think administr cooler polar bear jetski need hear cloud video product servic opper glodal level yeah pretti cool seriou deliv world class product excel custom servic rapidli expand busi look talent project manag manag success deliveri video project manag client commun drive product process work coolest brand planet learn global team repres nz huge way enter next growth stage busi grow quickli intern therefor posit burst opportun right person enter busi right time second world cloud video product servic http url fbe afac cd c f b eef e e f ca dd second world cloud video product servic enabl brand agenc get high qualiti onlin video content shot produc anywher world fast afford manag seamlessli cloud purchas publish second remov hassl cost risk speed issu work regular video product compani manag everi aspect video project beauti onlin experi grow network rate video profession countri dedic product success team countri guarante video project success easi commiss quick googl adword campaign second produc almost video countri global brand includ world largest includ paypal l oreal soni barclay offic auckland london sydney tokyo amp singapor auckland offic base right heart wynyard quarter innov precinct gridakl'"
      ]
     },
     "execution_count": 21,
     "metadata": {},
     "output_type": "execute_result"
    }
   ],
   "source": [
    "corpus[1]"
   ]
  },
  {
   "cell_type": "code",
   "execution_count": 22,
   "id": "54d9704c",
   "metadata": {
    "execution": {
     "iopub.execute_input": "2021-10-09T06:22:19.248127Z",
     "iopub.status.busy": "2021-10-09T06:22:19.247439Z",
     "iopub.status.idle": "2021-10-09T06:22:20.298970Z",
     "shell.execute_reply": "2021-10-09T06:22:20.299515Z",
     "shell.execute_reply.started": "2021-10-09T05:45:50.382390Z"
    },
    "papermill": {
     "duration": 1.087165,
     "end_time": "2021-10-09T06:22:20.299688",
     "exception": false,
     "start_time": "2021-10-09T06:22:19.212523",
     "status": "completed"
    },
    "tags": []
   },
   "outputs": [
    {
     "data": {
      "text/plain": [
       "[3671,\n",
       " 4398,\n",
       " 4815,\n",
       " 3771,\n",
       " 3635,\n",
       " 1288,\n",
       " 4661,\n",
       " 3603,\n",
       " 296,\n",
       " 1050,\n",
       " 4768,\n",
       " 1840,\n",
       " 2040,\n",
       " 3630,\n",
       " 1111,\n",
       " 4094,\n",
       " 3346,\n",
       " 4390,\n",
       " 4060,\n",
       " 4008,\n",
       " 3384,\n",
       " 850,\n",
       " 2281,\n",
       " 3624,\n",
       " 4661,\n",
       " 410,\n",
       " 2393,\n",
       " 1097,\n",
       " 913,\n",
       " 4312,\n",
       " 2401,\n",
       " 4994,\n",
       " 1809,\n",
       " 1142,\n",
       " 1282,\n",
       " 3624,\n",
       " 3566,\n",
       " 1288,\n",
       " 4661,\n",
       " 2954,\n",
       " 1271,\n",
       " 4494,\n",
       " 3430,\n",
       " 2551,\n",
       " 2529,\n",
       " 2040,\n",
       " 2040,\n",
       " 1942,\n",
       " 3751,\n",
       " 2281,\n",
       " 2529,\n",
       " 2040,\n",
       " 2150,\n",
       " 4460,\n",
       " 2501,\n",
       " 3624,\n",
       " 3984,\n",
       " 2210,\n",
       " 1714,\n",
       " 2723,\n",
       " 3121,\n",
       " 4215,\n",
       " 4175,\n",
       " 332,\n",
       " 3237,\n",
       " 4563,\n",
       " 4333,\n",
       " 3203,\n",
       " 2968,\n",
       " 3776,\n",
       " 659,\n",
       " 176,\n",
       " 4494,\n",
       " 2251,\n",
       " 3919,\n",
       " 3046,\n",
       " 4187,\n",
       " 2159,\n",
       " 2573,\n",
       " 2288,\n",
       " 249,\n",
       " 4370,\n",
       " 2968,\n",
       " 4494,\n",
       " 249,\n",
       " 1804,\n",
       " 598,\n",
       " 1142,\n",
       " 850,\n",
       " 2281,\n",
       " 3624,\n",
       " 4661,\n",
       " 3317,\n",
       " 2968,\n",
       " 1271,\n",
       " 3033,\n",
       " 1040,\n",
       " 4271,\n",
       " 3948,\n",
       " 2371,\n",
       " 4345,\n",
       " 4740,\n",
       " 4740,\n",
       " 3948,\n",
       " 656,\n",
       " 1107,\n",
       " 598,\n",
       " 1142,\n",
       " 850,\n",
       " 2281,\n",
       " 3624,\n",
       " 4661,\n",
       " 3759,\n",
       " 2723,\n",
       " 4193,\n",
       " 2439,\n",
       " 1373,\n",
       " 1551,\n",
       " 3381,\n",
       " 2281,\n",
       " 342,\n",
       " 2186,\n",
       " 2071,\n",
       " 1209,\n",
       " 1142,\n",
       " 2850,\n",
       " 182,\n",
       " 2040,\n",
       " 922,\n",
       " 850,\n",
       " 3281,\n",
       " 4571,\n",
       " 598,\n",
       " 1668,\n",
       " 1690,\n",
       " 2181,\n",
       " 587,\n",
       " 1832,\n",
       " 2536,\n",
       " 2210,\n",
       " 1642,\n",
       " 2281,\n",
       " 3624,\n",
       " 2312,\n",
       " 2040,\n",
       " 2362,\n",
       " 3959,\n",
       " 2281,\n",
       " 2529,\n",
       " 2366,\n",
       " 3381,\n",
       " 125,\n",
       " 2251,\n",
       " 1734,\n",
       " 4496,\n",
       " 2281,\n",
       " 2112,\n",
       " 2238,\n",
       " 261,\n",
       " 3624,\n",
       " 1942,\n",
       " 332,\n",
       " 2238,\n",
       " 4226,\n",
       " 2281,\n",
       " 2529,\n",
       " 1942,\n",
       " 83,\n",
       " 3786,\n",
       " 2861,\n",
       " 4964,\n",
       " 4879,\n",
       " 3124,\n",
       " 598,\n",
       " 2071,\n",
       " 3971,\n",
       " 2281,\n",
       " 2238,\n",
       " 4175,\n",
       " 2723,\n",
       " 4081,\n",
       " 1142,\n",
       " 4115,\n",
       " 4081,\n",
       " 999,\n",
       " 1143,\n",
       " 3837,\n",
       " 1941,\n",
       " 1396,\n",
       " 3375,\n",
       " 3592,\n",
       " 4042,\n",
       " 3910,\n",
       " 358,\n",
       " 3741,\n",
       " 819,\n",
       " 3592,\n",
       " 3375,\n",
       " 666,\n",
       " 249,\n",
       " 3509,\n",
       " 2825,\n",
       " 4690,\n",
       " 2195,\n",
       " 1021,\n",
       " 341]"
      ]
     },
     "execution_count": 22,
     "metadata": {},
     "output_type": "execute_result"
    }
   ],
   "source": [
    "onehot_repr=[one_hot(words,voc_size)for words in corpus] \n",
    "onehot_repr[1]"
   ]
  },
  {
   "cell_type": "markdown",
   "id": "472e9789",
   "metadata": {
    "papermill": {
     "duration": 0.031912,
     "end_time": "2021-10-09T06:22:20.364360",
     "exception": false,
     "start_time": "2021-10-09T06:22:20.332448",
     "status": "completed"
    },
    "tags": []
   },
   "source": [
    "****Embedding Representation****"
   ]
  },
  {
   "cell_type": "code",
   "execution_count": 23,
   "id": "d03fa1e4",
   "metadata": {
    "execution": {
     "iopub.execute_input": "2021-10-09T06:22:20.432571Z",
     "iopub.status.busy": "2021-10-09T06:22:20.431863Z",
     "iopub.status.idle": "2021-10-09T06:22:20.651338Z",
     "shell.execute_reply": "2021-10-09T06:22:20.652016Z",
     "shell.execute_reply.started": "2021-10-09T05:45:51.444594Z"
    },
    "papermill": {
     "duration": 0.255654,
     "end_time": "2021-10-09T06:22:20.652253",
     "exception": false,
     "start_time": "2021-10-09T06:22:20.396599",
     "status": "completed"
    },
    "tags": []
   },
   "outputs": [
    {
     "name": "stdout",
     "output_type": "stream",
     "text": [
      "[[3420  342 2040 ... 1326  569 4892]\n",
      " [1942   83 3786 ... 2195 1021  341]\n",
      " [   0    0    0 ... 4898  290 1374]\n",
      " ...\n",
      " [3622 3412 2440 ... 4594 1023 1613]\n",
      " [4005   44  549 ... 4682 3046 2529]\n",
      " [3385 4210  434 ... 3391 2439  269]]\n"
     ]
    }
   ],
   "source": [
    "sent_length=40\n",
    "embedded_docs=pad_sequences(onehot_repr,padding='pre',maxlen=sent_length)\n",
    "print(embedded_docs)"
   ]
  },
  {
   "cell_type": "code",
   "execution_count": 24,
   "id": "5259a011",
   "metadata": {
    "execution": {
     "iopub.execute_input": "2021-10-09T06:22:20.726348Z",
     "iopub.status.busy": "2021-10-09T06:22:20.725245Z",
     "iopub.status.idle": "2021-10-09T06:22:20.729385Z",
     "shell.execute_reply": "2021-10-09T06:22:20.729906Z",
     "shell.execute_reply.started": "2021-10-09T05:45:51.672424Z"
    },
    "papermill": {
     "duration": 0.043538,
     "end_time": "2021-10-09T06:22:20.730087",
     "exception": false,
     "start_time": "2021-10-09T06:22:20.686549",
     "status": "completed"
    },
    "tags": []
   },
   "outputs": [
    {
     "data": {
      "text/plain": [
       "array([3420,  342, 2040, 1718, 3101, 4113, 3482, 4243, 3925,  163,  402,\n",
       "        402, 3925,  656, 1327,  744, 3925, 2567, 3925,  348, 1694, 3741,\n",
       "       4936, 1815, 3375, 1111, 2210, 1824, 2521, 2880, 4211,  947, 1247,\n",
       "       4960, 2145, 2159, 1435, 1326,  569, 4892])"
      ]
     },
     "execution_count": 24,
     "metadata": {},
     "output_type": "execute_result"
    }
   ],
   "source": [
    "embedded_docs[0]"
   ]
  },
  {
   "cell_type": "code",
   "execution_count": 25,
   "id": "ee29ed40",
   "metadata": {
    "execution": {
     "iopub.execute_input": "2021-10-09T06:22:20.800285Z",
     "iopub.status.busy": "2021-10-09T06:22:20.799597Z",
     "iopub.status.idle": "2021-10-09T06:22:21.511356Z",
     "shell.execute_reply": "2021-10-09T06:22:21.512112Z",
     "shell.execute_reply.started": "2021-10-09T05:45:51.680753Z"
    },
    "papermill": {
     "duration": 0.748961,
     "end_time": "2021-10-09T06:22:21.512332",
     "exception": false,
     "start_time": "2021-10-09T06:22:20.763371",
     "status": "completed"
    },
    "tags": []
   },
   "outputs": [
    {
     "name": "stdout",
     "output_type": "stream",
     "text": [
      "Model: \"sequential\"\n",
      "_________________________________________________________________\n",
      " Layer (type)                Output Shape              Param #   \n",
      "=================================================================\n",
      " embedding (Embedding)       (None, 40, 50)            250000    \n",
      "                                                                 \n",
      " bidirectional (Bidirectiona  (None, 200)              120800    \n",
      " l)                                                              \n",
      "                                                                 \n",
      " dropout (Dropout)           (None, 200)               0         \n",
      "                                                                 \n",
      " dense (Dense)               (None, 1)                 201       \n",
      "                                                                 \n",
      "=================================================================\n",
      "Total params: 371,001\n",
      "Trainable params: 371,001\n",
      "Non-trainable params: 0\n",
      "_________________________________________________________________\n",
      "None\n"
     ]
    }
   ],
   "source": [
    "## Creating model\n",
    "embedding_vector_features=50\n",
    "model1=Sequential()\n",
    "model1.add(Embedding(voc_size,embedding_vector_features,input_length=sent_length))\n",
    "model1.add(Bidirectional(LSTM(100))) ##Just add bidirectional!!, except it would just behave as normal LSTM Model\n",
    "model1.add(Dropout(0.3))\n",
    "model1.add(Dense(1,activation='sigmoid'))\n",
    "model1.compile(loss='binary_crossentropy',optimizer='adam',metrics=['accuracy'])\n",
    "print(model1.summary())"
   ]
  },
  {
   "cell_type": "code",
   "execution_count": 26,
   "id": "de3890ad",
   "metadata": {
    "execution": {
     "iopub.execute_input": "2021-10-09T06:22:21.587372Z",
     "iopub.status.busy": "2021-10-09T06:22:21.586462Z",
     "iopub.status.idle": "2021-10-09T06:22:21.590239Z",
     "shell.execute_reply": "2021-10-09T06:22:21.589749Z",
     "shell.execute_reply.started": "2021-10-09T05:45:52.341584Z"
    },
    "papermill": {
     "duration": 0.04321,
     "end_time": "2021-10-09T06:22:21.590375",
     "exception": false,
     "start_time": "2021-10-09T06:22:21.547165",
     "status": "completed"
    },
    "tags": []
   },
   "outputs": [
    {
     "data": {
      "text/plain": [
       "(15185, (15185,))"
      ]
     },
     "execution_count": 26,
     "metadata": {},
     "output_type": "execute_result"
    }
   ],
   "source": [
    "len(embedded_docs),y.shape"
   ]
  },
  {
   "cell_type": "code",
   "execution_count": 27,
   "id": "ad5cbbeb",
   "metadata": {
    "execution": {
     "iopub.execute_input": "2021-10-09T06:22:21.664167Z",
     "iopub.status.busy": "2021-10-09T06:22:21.663432Z",
     "iopub.status.idle": "2021-10-09T06:22:21.669869Z",
     "shell.execute_reply": "2021-10-09T06:22:21.669285Z",
     "shell.execute_reply.started": "2021-10-09T05:45:52.349516Z"
    },
    "papermill": {
     "duration": 0.045221,
     "end_time": "2021-10-09T06:22:21.670023",
     "exception": false,
     "start_time": "2021-10-09T06:22:21.624802",
     "status": "completed"
    },
    "tags": []
   },
   "outputs": [],
   "source": [
    "import numpy as np\n",
    "X_final=np.array(embedded_docs)\n",
    "y_final=np.array(y)"
   ]
  },
  {
   "cell_type": "code",
   "execution_count": 28,
   "id": "5cc19c0b",
   "metadata": {
    "execution": {
     "iopub.execute_input": "2021-10-09T06:22:21.744830Z",
     "iopub.status.busy": "2021-10-09T06:22:21.743827Z",
     "iopub.status.idle": "2021-10-09T06:22:21.749568Z",
     "shell.execute_reply": "2021-10-09T06:22:21.750109Z",
     "shell.execute_reply.started": "2021-10-09T05:45:52.363279Z"
    },
    "papermill": {
     "duration": 0.0445,
     "end_time": "2021-10-09T06:22:21.750277",
     "exception": false,
     "start_time": "2021-10-09T06:22:21.705777",
     "status": "completed"
    },
    "tags": []
   },
   "outputs": [
    {
     "data": {
      "text/plain": [
       "array([1942,   83, 3786, 2861, 4964, 4879, 3124,  598, 2071, 3971, 2281,\n",
       "       2238, 4175, 2723, 4081, 1142, 4115, 4081,  999, 1143, 3837, 1941,\n",
       "       1396, 3375, 3592, 4042, 3910,  358, 3741,  819, 3592, 3375,  666,\n",
       "        249, 3509, 2825, 4690, 2195, 1021,  341])"
      ]
     },
     "execution_count": 28,
     "metadata": {},
     "output_type": "execute_result"
    }
   ],
   "source": [
    "X_final[1]"
   ]
  },
  {
   "cell_type": "code",
   "execution_count": 29,
   "id": "2f8e95a9",
   "metadata": {
    "execution": {
     "iopub.execute_input": "2021-10-09T06:22:21.825293Z",
     "iopub.status.busy": "2021-10-09T06:22:21.824284Z",
     "iopub.status.idle": "2021-10-09T06:22:21.841087Z",
     "shell.execute_reply": "2021-10-09T06:22:21.840422Z",
     "shell.execute_reply.started": "2021-10-09T05:45:52.376010Z"
    },
    "papermill": {
     "duration": 0.056173,
     "end_time": "2021-10-09T06:22:21.841231",
     "exception": false,
     "start_time": "2021-10-09T06:22:21.785058",
     "status": "completed"
    },
    "tags": []
   },
   "outputs": [],
   "source": [
    "from sklearn.model_selection import train_test_split\n",
    "X_train, X_test, y_train, y_test = train_test_split(X_final, y_final, test_size=0.25, random_state=32)\n",
    "from sklearn.model_selection import train_test_split\n",
    "X_train, X_test, y_train, y_test = train_test_split(X_final, y_final, test_size=0.25, random_state=32)"
   ]
  },
  {
   "cell_type": "code",
   "execution_count": 30,
   "id": "48400627",
   "metadata": {
    "execution": {
     "iopub.execute_input": "2021-10-09T06:22:21.918266Z",
     "iopub.status.busy": "2021-10-09T06:22:21.917560Z",
     "iopub.status.idle": "2021-10-09T06:25:13.816526Z",
     "shell.execute_reply": "2021-10-09T06:25:13.817136Z",
     "shell.execute_reply.started": "2021-10-09T05:45:52.394609Z"
    },
    "papermill": {
     "duration": 171.940018,
     "end_time": "2021-10-09T06:25:13.817532",
     "exception": false,
     "start_time": "2021-10-09T06:22:21.877514",
     "status": "completed"
    },
    "tags": []
   },
   "outputs": [
    {
     "name": "stdout",
     "output_type": "stream",
     "text": [
      "Epoch 1/12\n",
      "178/178 [==============================] - 31s 128ms/step - loss: 0.2056 - accuracy: 0.9541 - val_loss: 0.1647 - val_accuracy: 0.9497\n",
      "Epoch 2/12\n",
      "178/178 [==============================] - 21s 120ms/step - loss: 0.0950 - accuracy: 0.9717 - val_loss: 0.1420 - val_accuracy: 0.9637\n",
      "Epoch 3/12\n",
      "178/178 [==============================] - 21s 119ms/step - loss: 0.0557 - accuracy: 0.9839 - val_loss: 0.1447 - val_accuracy: 0.9663\n",
      "Epoch 4/12\n",
      "178/178 [==============================] - 21s 116ms/step - loss: 0.0307 - accuracy: 0.9922 - val_loss: 0.1462 - val_accuracy: 0.9694\n",
      "Epoch 5/12\n",
      "178/178 [==============================] - 21s 115ms/step - loss: 0.0146 - accuracy: 0.9960 - val_loss: 0.1479 - val_accuracy: 0.9705\n",
      "Epoch 6/12\n",
      "178/178 [==============================] - 21s 117ms/step - loss: 0.0092 - accuracy: 0.9974 - val_loss: 0.1966 - val_accuracy: 0.9689\n",
      "Epoch 7/12\n",
      "178/178 [==============================] - 21s 116ms/step - loss: 0.0057 - accuracy: 0.9985 - val_loss: 0.1943 - val_accuracy: 0.9697\n",
      "Epoch 8/12\n",
      "178/178 [==============================] - 20s 112ms/step - loss: 0.0029 - accuracy: 0.9995 - val_loss: 0.2153 - val_accuracy: 0.9681\n",
      "Epoch 9/12\n",
      "178/178 [==============================] - 20s 111ms/step - loss: 0.0035 - accuracy: 0.9993 - val_loss: 0.2504 - val_accuracy: 0.9694\n",
      "Epoch 10/12\n",
      "178/178 [==============================] - 18s 104ms/step - loss: 0.0031 - accuracy: 0.9994 - val_loss: 0.2255 - val_accuracy: 0.9689\n",
      "Epoch 11/12\n",
      "178/178 [==============================] - 19s 104ms/step - loss: 0.0017 - accuracy: 0.9996 - val_loss: 0.2012 - val_accuracy: 0.9671\n",
      "Epoch 12/12\n",
      "178/178 [==============================] - 17s 93ms/step - loss: 0.0020 - accuracy: 0.9993 - val_loss: 0.2104 - val_accuracy: 0.9676\n"
     ]
    },
    {
     "data": {
      "text/plain": [
       "<keras.callbacks.History at 0x27052a270d0>"
      ]
     },
     "execution_count": 30,
     "metadata": {},
     "output_type": "execute_result"
    }
   ],
   "source": [
    "model1.fit(X_train,y_train,validation_data=(X_test,y_test),epochs=12,batch_size=64)"
   ]
  },
  {
   "cell_type": "markdown",
   "id": "5be23d5e",
   "metadata": {
    "papermill": {
     "duration": 0.68694,
     "end_time": "2021-10-09T06:25:15.194054",
     "exception": false,
     "start_time": "2021-10-09T06:25:14.507114",
     "status": "completed"
    },
    "tags": []
   },
   "source": [
    "**Model Performance and Accuracy**"
   ]
  },
  {
   "cell_type": "code",
   "execution_count": 32,
   "id": "9d8fd061",
   "metadata": {
    "execution": {
     "iopub.execute_input": "2021-10-09T06:25:16.669670Z",
     "iopub.status.busy": "2021-10-09T06:25:16.668805Z",
     "iopub.status.idle": "2021-10-09T06:25:18.803854Z",
     "shell.execute_reply": "2021-10-09T06:25:18.802881Z",
     "shell.execute_reply.started": "2021-10-09T05:48:33.648119Z"
    },
    "papermill": {
     "duration": 2.831251,
     "end_time": "2021-10-09T06:25:18.804015",
     "exception": false,
     "start_time": "2021-10-09T06:25:15.972764",
     "status": "completed"
    },
    "tags": []
   },
   "outputs": [
    {
     "name": "stdout",
     "output_type": "stream",
     "text": [
      "119/119 [==============================] - 4s 20ms/step\n"
     ]
    },
    {
     "data": {
      "text/plain": [
       "array([[3557,   28],\n",
       "       [  95,  117]], dtype=int64)"
      ]
     },
     "execution_count": 32,
     "metadata": {},
     "output_type": "execute_result"
    }
   ],
   "source": [
    "y_pred=(model1.predict(X_test)>0.5).astype('int32')\n",
    "from sklearn.metrics import confusion_matrix\n",
    "confusion_matrix(y_test,y_pred)"
   ]
  },
  {
   "cell_type": "code",
   "execution_count": 33,
   "id": "65673655",
   "metadata": {
    "execution": {
     "iopub.execute_input": "2021-10-09T06:25:20.221337Z",
     "iopub.status.busy": "2021-10-09T06:25:20.218297Z",
     "iopub.status.idle": "2021-10-09T06:25:20.225840Z",
     "shell.execute_reply": "2021-10-09T06:25:20.225159Z",
     "shell.execute_reply.started": "2021-10-09T05:48:35.553787Z"
    },
    "papermill": {
     "duration": 0.706418,
     "end_time": "2021-10-09T06:25:20.225989",
     "exception": false,
     "start_time": "2021-10-09T06:25:19.519571",
     "status": "completed"
    },
    "tags": []
   },
   "outputs": [
    {
     "data": {
      "text/plain": [
       "0.9676060047405847"
      ]
     },
     "execution_count": 33,
     "metadata": {},
     "output_type": "execute_result"
    }
   ],
   "source": [
    "from sklearn.metrics import accuracy_score\n",
    "accuracy_score(y_test,y_pred)"
   ]
  },
  {
   "cell_type": "code",
   "execution_count": 34,
   "id": "325ca54c",
   "metadata": {
    "execution": {
     "iopub.execute_input": "2021-10-09T06:25:21.612615Z",
     "iopub.status.busy": "2021-10-09T06:25:21.611552Z",
     "iopub.status.idle": "2021-10-09T06:25:21.624428Z",
     "shell.execute_reply": "2021-10-09T06:25:21.623897Z",
     "shell.execute_reply.started": "2021-10-09T05:48:35.562171Z"
    },
    "papermill": {
     "duration": 0.709133,
     "end_time": "2021-10-09T06:25:21.624598",
     "exception": false,
     "start_time": "2021-10-09T06:25:20.915465",
     "status": "completed"
    },
    "tags": []
   },
   "outputs": [
    {
     "name": "stdout",
     "output_type": "stream",
     "text": [
      "              precision    recall  f1-score   support\n",
      "\n",
      "           0       0.97      0.99      0.98      3585\n",
      "           1       0.81      0.55      0.66       212\n",
      "\n",
      "    accuracy                           0.97      3797\n",
      "   macro avg       0.89      0.77      0.82      3797\n",
      "weighted avg       0.96      0.97      0.96      3797\n",
      "\n"
     ]
    }
   ],
   "source": [
    "from sklearn.metrics import classification_report\n",
    "print(classification_report(y_test,y_pred))"
   ]
  },
  {
   "cell_type": "code",
   "execution_count": 53,
   "id": "3807abfd",
   "metadata": {},
   "outputs": [
    {
     "name": "stdout",
     "output_type": "stream",
     "text": [
      "Data Entry Admin/Clerical Positions - Work From Home Director of Strategy | San Mateo, CAÂ Interested in a company that has doubled annually for the last three years? Benchmarking in the top percentile of SaaS companies that have ultimately gone public? Deeply capitalized? Â Backed by investors such as Battery Ventures and Intel Capital?Â DescriptionThis role is responsible for building and leading the newly formed Corporate Strategy function. Â  It will report to a senior executive and will be responsible for identifying and answering a host of strategic questions, including growth, international expansion, acquisitions, and functional issues. Â  Â It will be an extremely visible role in the company and work across the entire organization. Â  This role will also be responsible for recruiting additional talent into the function, developing operational processes, and designing the talent management/career path for staff. Â  Â Due to the rapid growth of the company, this role will have opportunity to transition to into functional / line management over time if interested. Â  Â Responsibilities:Evaluation of industry trends to develop implications and recommend strategies;Development of strategic recommendationsEvaluation of new business opportunities;New market analysis and entry strategies;Creation of new initiatives drawing on an integrated offering across multiple business units;Evaluation of new technologies;\n",
      "1/1 [==============================] - 0s 19ms/step\n",
      "This advertisement belonging to real job post category\n"
     ]
    }
   ],
   "source": [
    "# input_text = ['Data Entry Admin/Clerical Positions - Work From Home ']\n",
    "words=input('Data Entry Admin/Clerical Positions - Work From Home ')\n",
    "onehot_repr=[one_hot(words,voc_size)] \n",
    "sent_length1=40\n",
    "embedded_docs=pad_sequences(onehot_repr,padding='pre',maxlen=sent_length1)\n",
    "\n",
    "# input_data = vect.transform(input_text)\n",
    "\n",
    "prediction = model1.predict(embedded_docs)\n",
    "prediction\n",
    "\n",
    "if (prediction[0] == 1):\n",
    "    print(\"This advertisement belonging to fake job post category\")\n",
    "else:\n",
    "    print(\"This advertisement belonging to real job post category\")  "
   ]
  },
  {
   "cell_type": "code",
   "execution_count": 54,
   "id": "4f60cc59",
   "metadata": {},
   "outputs": [],
   "source": [
    "model1.save('job_model.h5')"
   ]
  },
  {
   "cell_type": "code",
   "execution_count": null,
   "id": "7b0ea3ce",
   "metadata": {},
   "outputs": [],
   "source": []
  }
 ],
 "metadata": {
  "kernelspec": {
   "display_name": "Python 3 (ipykernel)",
   "language": "python",
   "name": "python3"
  },
  "language_info": {
   "codemirror_mode": {
    "name": "ipython",
    "version": 3
   },
   "file_extension": ".py",
   "mimetype": "text/x-python",
   "name": "python",
   "nbconvert_exporter": "python",
   "pygments_lexer": "ipython3",
   "version": "3.9.7"
  },
  "papermill": {
   "default_parameters": {},
   "duration": 611.067978,
   "end_time": "2021-10-09T06:25:25.811420",
   "environment_variables": {},
   "exception": null,
   "input_path": "__notebook__.ipynb",
   "output_path": "__notebook__.ipynb",
   "parameters": {},
   "start_time": "2021-10-09T06:15:14.743442",
   "version": "2.3.3"
  }
 },
 "nbformat": 4,
 "nbformat_minor": 5
}
